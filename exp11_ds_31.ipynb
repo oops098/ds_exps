{
  "nbformat": 4,
  "nbformat_minor": 0,
  "metadata": {
    "colab": {
      "provenance": []
    },
    "kernelspec": {
      "name": "python3",
      "display_name": "Python 3"
    },
    "language_info": {
      "name": "python"
    }
  },
  "cells": [
    {
      "cell_type": "markdown",
      "source": [
        "\n",
        "1. Lasso Regression:\n",
        "○ Lasso applies L1 regularization, which shrinks the coefficients of irrelevant\n",
        "features to zero.\n",
        "○ Non-zero coefficients represent the selected features. The selected features are\n",
        "then used to evaluate model performance.\n",
        "2. Random Forest Classifier:\n",
        "○ Random Forest is used to determine feature importance. Each feature's\n",
        "importance is calculated based on how much it contributes to reducing impurity in\n",
        "the decision trees.\n",
        "○ The feature importance scores are plotted and displayed.\n",
        "3. ElasticNet Regression:\n",
        "○ ElasticNet combines L1 (Lasso) and L2 (Ridge) regularization to select features.\n",
        "It is useful when features are correlated.\n",
        "○ The model selects features based on a balance of both regularization methods\n",
        "and evaluates the selected features.\n"
      ],
      "metadata": {
        "id": "4HS5vVFR6DVd"
      }
    },
    {
      "cell_type": "code",
      "execution_count": 3,
      "metadata": {
        "colab": {
          "base_uri": "https://localhost:8080/",
          "height": 1000
        },
        "id": "8R7US6zy3fZj",
        "outputId": "4d9877b3-f737-461d-f935-26b67ce47875"
      },
      "outputs": [
        {
          "output_type": "stream",
          "name": "stdout",
          "text": [
            "Selected Features by Lasso:\n",
            "sepal width (cm)    -0.045915\n",
            "petal length (cm)    0.317231\n",
            "petal width (cm)     0.434843\n",
            "dtype: float64\n",
            "\n",
            "Lasso Model Accuracy with Selected Features: 0.9436\n",
            "\n",
            "Random Forest Feature Importances:\n",
            "petal width (cm)     0.433982\n",
            "petal length (cm)    0.417308\n",
            "sepal length (cm)    0.104105\n",
            "sepal width (cm)     0.044605\n",
            "dtype: float64\n"
          ]
        },
        {
          "output_type": "display_data",
          "data": {
            "text/plain": [
              "<Figure size 1000x600 with 1 Axes>"
            ],
            "image/png": "[encoded data removed]"
          },
          "metadata": {}
        },
        {
          "output_type": "stream",
          "name": "stdout",
          "text": [
            "Random Forest Model Accuracy: 1.0000\n",
            "\n",
            "Selected Features by ElasticNet:\n",
            "sepal length (cm)   -0.021918\n",
            "sepal width (cm)    -0.042807\n",
            "petal length (cm)    0.352903\n",
            "petal width (cm)     0.421898\n",
            "dtype: float64\n",
            "\n",
            "ElasticNet Model Accuracy with Selected Features: 0.9437\n",
            "\n"
          ]
        }
      ],
      "source": [
        "import pandas as pd\n",
        "import numpy as np\n",
        "from sklearn.model_selection import train_test_split\n",
        "from sklearn.preprocessing import StandardScaler\n",
        "from sklearn.linear_model import Lasso, ElasticNet\n",
        "from sklearn.ensemble import RandomForestClassifier\n",
        "from sklearn.metrics import accuracy_score\n",
        "import matplotlib.pyplot as plt\n",
        "from sklearn.datasets import load_iris\n",
        "\n",
        "# Load Iris dataset\n",
        "iris = load_iris()\n",
        "X = pd.DataFrame(iris.data, columns=iris.feature_names)\n",
        "y = iris.target\n",
        "\n",
        "# Split the dataset into train and test sets\n",
        "X_train, X_test, y_train, y_test = train_test_split(X, y, test_size=0.3, random_state=42)\n",
        "\n",
        "# Scale the features\n",
        "scaler = StandardScaler()\n",
        "X_train_scaled = scaler.fit_transform(X_train)\n",
        "X_test_scaled = scaler.transform(X_test)\n",
        "\n",
        "# ----------------- 1. Lasso Regression -----------------\n",
        "# Apply Lasso for feature selection\n",
        "lasso = Lasso(alpha=0.01)\n",
        "lasso.fit(X_train_scaled, y_train)\n",
        "\n",
        "# Get coefficients of the features\n",
        "lasso_coefficients = pd.Series(lasso.coef_, index=X.columns)\n",
        "selected_lasso_features = lasso_coefficients[lasso_coefficients != 0]\n",
        "print(\"Selected Features by Lasso:\")\n",
        "print(selected_lasso_features)\n",
        "\n",
        "# Filter the selected features\n",
        "selected_features_mask = lasso_coefficients != 0\n",
        "X_train_lasso = X_train_scaled[:, selected_features_mask]\n",
        "X_test_lasso = X_test_scaled[:, selected_features_mask]\n",
        "\n",
        "# Retrain a Lasso model with selected features\n",
        "lasso_selected = Lasso(alpha=0.01)\n",
        "lasso_selected.fit(X_train_lasso, y_train)\n",
        "\n",
        "# Evaluate the new model on the test set\n",
        "lasso_accuracy = lasso_selected.score(X_test_lasso, y_test)\n",
        "print(f\"\\nLasso Model Accuracy with Selected Features: {lasso_accuracy:.4f}\\n\")\n",
        "\n",
        "# ----------------- 2. Random Forest (Feature Importance) -----------------\n",
        "# Apply Random Forest for feature importance\n",
        "rf = RandomForestClassifier(n_estimators=100, random_state=42)\n",
        "rf.fit(X_train, y_train)\n",
        "\n",
        "# Get feature importances\n",
        "rf_feature_importances = pd.Series(rf.feature_importances_, index=X.columns)\n",
        "rf_feature_importances = rf_feature_importances.sort_values(ascending=False)\n",
        "print(\"Random Forest Feature Importances:\")\n",
        "print(rf_feature_importances)\n",
        "\n",
        "# Plot feature importance\n",
        "plt.figure(figsize=(10, 6))\n",
        "rf_feature_importances.plot(kind='bar')\n",
        "plt.title('Random Forest Feature Importances')\n",
        "plt.show()\n",
        "\n",
        "# Predict and evaluate model performance with Random Forest\n",
        "y_pred_rf = rf.predict(X_test)\n",
        "rf_accuracy = accuracy_score(y_test, y_pred_rf)\n",
        "print(f\"Random Forest Model Accuracy: {rf_accuracy:.4f}\\n\")\n",
        "\n",
        "# ----------------- 3. ElasticNet (L1 + L2 Regularization) -----------------\n",
        "# Apply ElasticNet for feature selection\n",
        "elasticnet = ElasticNet(alpha=0.01, l1_ratio=0.5)\n",
        "elasticnet.fit(X_train_scaled, y_train)\n",
        "\n",
        "# Get coefficients of the features\n",
        "elasticnet_coefficients = pd.Series(elasticnet.coef_, index=X.columns)\n",
        "selected_elasticnet_features = elasticnet_coefficients[elasticnet_coefficients != 0]\n",
        "print(\"Selected Features by ElasticNet:\")\n",
        "print(selected_elasticnet_features)\n",
        "\n",
        "# Filter the selected features\n",
        "selected_features_mask_elasticnet = elasticnet_coefficients != 0\n",
        "X_train_elasticnet = X_train_scaled[:, selected_features_mask_elasticnet]\n",
        "X_test_elasticnet = X_test_scaled[:, selected_features_mask_elasticnet]\n",
        "\n",
        "# Retrain an ElasticNet model with selected features\n",
        "elasticnet_selected = ElasticNet(alpha=0.01, l1_ratio=0.5)\n",
        "elasticnet_selected.fit(X_train_elasticnet, y_train)\n",
        "\n",
        "# Evaluate the new model on the test set\n",
        "elasticnet_accuracy = elasticnet_selected.score(X_test_elasticnet, y_test)\n",
        "print(f\"\\nElasticNet Model Accuracy with Selected Features: {elasticnet_accuracy:.4f}\\n\")\n"
      ]
    },
    {
      "cell_type": "markdown",
      "source": [
        "The selected features by Lasso are printed along with the model accuracy after feature\n",
        "selection.\n",
        " Random Forest outputs feature importance values and a bar plot of feature importance.\n",
        " ElasticNet prints the selected features and the model’s performance after feature\n",
        "selection.\n",
        "Conclusion:\n",
        "● Lasso reduces the number of features by shrinking irrelevant ones to zero.\n",
        "● Random Forest provides insight into the most important features using built-in feature\n",
        "importance.\n",
        "● ElasticNet allows a balance between L1 and L2 regularization, making it more flexible\n",
        "for selecting features, especially in datasets where features are correlated."
      ],
      "metadata": {
        "id": "t94R_ZbZ6Qbz"
      }
    },
    {
      "cell_type": "markdown",
      "source": [
        " **Recursive Feature Elimination with Cross-Validation (RFECV)**\n",
        "This technique uses a model to recursively remove the least important features and evaluates performance at each step using cross-validation."
      ],
      "metadata": {
        "id": "Ipo6R4cL6qWp"
      }
    },
    {
      "cell_type": "code",
      "source": [
        "from sklearn.feature_selection import RFECV\n",
        "from sklearn.svm import SVC\n",
        "\n",
        "# Use a Support Vector Machine (SVM) as the base estimator\n",
        "svc = SVC(kernel=\"linear\", random_state=42)\n",
        "rfecv = RFECV(estimator=svc, step=1, cv=5, scoring=\"accuracy\")\n",
        "rfecv.fit(X_train_scaled, y_train)\n",
        "\n",
        "# Features selected by RFECV\n",
        "selected_rfecv_features = X.columns[rfecv.support_]\n",
        "print(\"Selected Features by RFECV:\")\n",
        "print(selected_rfecv_features)\n",
        "\n",
        "# Evaluate model performance with selected features\n",
        "X_train_rfecv = X_train_scaled[:, rfecv.support_]\n",
        "X_test_rfecv = X_test_scaled[:, rfecv.support_]\n",
        "\n",
        "svc_selected = SVC(kernel=\"linear\", random_state=42)\n",
        "svc_selected.fit(X_train_rfecv, y_train)\n",
        "rfecv_accuracy = svc_selected.score(X_test_rfecv, y_test)\n",
        "print(f\"RFECV Model Accuracy with Selected Features: {rfecv_accuracy:.4f}\")\n"
      ],
      "metadata": {
        "colab": {
          "base_uri": "https://localhost:8080/"
        },
        "id": "K5Z2ZY8D6raq",
        "outputId": "417fdcbc-dc81-4f17-a5bf-ce20a73df76c"
      },
      "execution_count": 4,
      "outputs": [
        {
          "output_type": "stream",
          "name": "stdout",
          "text": [
            "Selected Features by RFECV:\n",
            "Index(['sepal width (cm)', 'petal length (cm)', 'petal width (cm)'], dtype='object')\n",
            "RFECV Model Accuracy with Selected Features: 0.9778\n"
          ]
        }
      ]
    },
    {
      "cell_type": "markdown",
      "source": [
        " **Feature Selection with Gradient Boosting (XGBoost)**\n",
        "Gradient boosting models can also provide feature importance scores, which you can use to select the most influential features."
      ],
      "metadata": {
        "id": "5eav-MpJ6xM4"
      }
    },
    {
      "cell_type": "code",
      "source": [
        "from xgboost import XGBClassifier\n",
        "\n",
        "# Train an XGBoost classifier\n",
        "xgb = XGBClassifier(random_state=42, use_label_encoder=False, eval_metric=\"mlogloss\")\n",
        "xgb.fit(X_train, y_train)\n",
        "\n",
        "# Get feature importance scores\n",
        "xgb_feature_importances = pd.Series(xgb.feature_importances_, index=X.columns)\n",
        "xgb_feature_importances = xgb_feature_importances.sort_values(ascending=False)\n",
        "print(\"XGBoost Feature Importances:\")\n",
        "print(xgb_feature_importances)\n",
        "\n",
        "# Select top features (e.g., top 3)\n",
        "top_features = xgb_feature_importances.head(3).index\n",
        "X_train_xgb = X_train[top_features]\n",
        "X_test_xgb = X_test[top_features]\n",
        "\n",
        "# Retrain with selected features\n",
        "xgb_selected = XGBClassifier(random_state=42, use_label_encoder=False, eval_metric=\"mlogloss\")\n",
        "xgb_selected.fit(X_train_xgb, y_train)\n",
        "xgb_accuracy = xgb_selected.score(X_test_xgb, y_test)\n",
        "print(f\"XGBoost Model Accuracy with Selected Features: {xgb_accuracy:.4f}\")\n"
      ],
      "metadata": {
        "colab": {
          "base_uri": "https://localhost:8080/"
        },
        "id": "oNAx9ePk600W",
        "outputId": "12726819-eba2-41f8-da22-3bf35077605f"
      },
      "execution_count": 5,
      "outputs": [
        {
          "output_type": "stream",
          "name": "stderr",
          "text": [
            "/usr/local/lib/python3.10/dist-packages/xgboost/core.py:158: UserWarning: [09:05:15] WARNING: /workspace/src/learner.cc:740: \n",
            "Parameters: { \"use_label_encoder\" } are not used.\n",
            "\n",
            "  warnings.warn(smsg, UserWarning)\n"
          ]
        },
        {
          "output_type": "stream",
          "name": "stdout",
          "text": [
            "XGBoost Feature Importances:\n",
            "petal length (cm)    0.738762\n",
            "petal width (cm)     0.220724\n",
            "sepal width (cm)     0.030385\n",
            "sepal length (cm)    0.010128\n",
            "dtype: float32\n"
          ]
        },
        {
          "output_type": "stream",
          "name": "stderr",
          "text": [
            "/usr/local/lib/python3.10/dist-packages/xgboost/core.py:158: UserWarning: [09:05:15] WARNING: /workspace/src/learner.cc:740: \n",
            "Parameters: { \"use_label_encoder\" } are not used.\n",
            "\n",
            "  warnings.warn(smsg, UserWarning)\n"
          ]
        },
        {
          "output_type": "stream",
          "name": "stdout",
          "text": [
            "XGBoost Model Accuracy with Selected Features: 1.0000\n"
          ]
        }
      ]
    },
    {
      "cell_type": "markdown",
      "source": [
        "Embedded Feature Selection with L1-Regularized Logistic Regression\n",
        "Use L1 regularization to select features during logistic regression trainin"
      ],
      "metadata": {
        "id": "fpzstLXN7Lmr"
      }
    },
    {
      "cell_type": "code",
      "source": [
        "from sklearn.linear_model import LogisticRegression\n",
        "\n",
        "# Train Logistic Regression with L1 regularization\n",
        "logreg = LogisticRegression(penalty=\"l1\", solver=\"saga\", C=1.0, random_state=42, max_iter=1000)\n",
        "logreg.fit(X_train_scaled, y_train)\n",
        "\n",
        "# Get coefficients of the features\n",
        "logreg_coefficients = pd.Series(logreg.coef_[0], index=X.columns)\n",
        "selected_logreg_features = logreg_coefficients[logreg_coefficients != 0]\n",
        "print(\"Selected Features by L1-Regularized Logistic Regression:\")\n",
        "print(selected_logreg_features)\n",
        "\n",
        "# Evaluate model performance with selected features\n",
        "selected_features_mask_logreg = logreg_coefficients != 0\n",
        "X_train_logreg = X_train_scaled[:, selected_features_mask_logreg]\n",
        "X_test_logreg = X_test_scaled[:, selected_features_mask_logreg]\n",
        "\n",
        "logreg_selected = LogisticRegression(penalty=\"l1\", solver=\"saga\", C=1.0, random_state=42, max_iter=1000)\n",
        "logreg_selected.fit(X_train_logreg, y_train)\n",
        "logreg_accuracy = logreg_selected.score(X_test_logreg, y_test)\n",
        "print(f\"L1-Regularized Logistic Regression Model Accuracy: {logreg_accuracy:.4f}\")\n"
      ],
      "metadata": {
        "colab": {
          "base_uri": "https://localhost:8080/"
        },
        "id": "bs3Iw3-h7LTY",
        "outputId": "17629839-a171-4fda-abfa-c732291995f0"
      },
      "execution_count": 6,
      "outputs": [
        {
          "output_type": "stream",
          "name": "stdout",
          "text": [
            "Selected Features by L1-Regularized Logistic Regression:\n",
            "sepal width (cm)     0.825395\n",
            "petal length (cm)   -4.314534\n",
            "dtype: float64\n",
            "L1-Regularized Logistic Regression Model Accuracy: 1.0000\n"
          ]
        }
      ]
    }
  ]
}