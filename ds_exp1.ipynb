{
  "nbformat": 4,
  "nbformat_minor": 0,
  "metadata": {
    "colab": {
      "provenance": []
    },
    "kernelspec": {
      "name": "python3",
      "display_name": "Python 3"
    },
    "language_info": {
      "name": "python"
    }
  },
  "cells": [
    {
      "cell_type": "code",
      "execution_count": 20,
      "metadata": {
        "id": "_bkxovSu4WvP"
      },
      "outputs": [],
      "source": [
        "import pandas as pd\n",
        "df1=pd.read_csv('student3.csv')\n",
        "df2=pd.read_csv('student2.csv')"
      ]
    },
    {
      "cell_type": "code",
      "source": [
        "merge_df=pd.merge(df1,df2,on='name',how='outer')\n",
        "print(merge_df)"
      ],
      "metadata": {
        "colab": {
          "base_uri": "https://localhost:8080/"
        },
        "id": "km6ZqfThAzHi",
        "outputId": "e7344d1b-f6c3-4133-d319-577892382545"
      },
      "execution_count": 5,
      "outputs": [
        {
          "output_type": "stream",
          "name": "stdout",
          "text": [
            "    roll_x     name class_x  marks   age_x  roll_y class_y  marks  age_y\n",
            "0      1.0     anil      TE   56.77   22.0     1.0      TE  56.77   22.0\n",
            "1      2.0     amit      TE   59.77   21.0     2.0      TE  59.77   21.0\n",
            "2      3.0   aniket      BE   76.88   19.0     3.0      BE  76.88   19.0\n",
            "3      4.0  ajinkya      TE   69.66   20.0     4.0      TE  69.66    NaN\n",
            "4      5.0     asha      TE   63.28    NaN     5.0     NaN  63.28   20.0\n",
            "5      6.0   ayesha      BE     NaN   20.0     6.0      BE  49.55   20.0\n",
            "6      7.0     amar      BE   65.34   19.0     7.0      BE    NaN   19.0\n",
            "7      8.0    Amita      be   68.33   23.0     NaN     NaN    NaN    NaN\n",
            "8      9.0     amol      TE   56.75   20.0     9.0      TE  56.75   20.0\n",
            "9      9.0     amol      TE   56.75   20.0     9.0      TE  56.75   20.0\n",
            "10    10.0    anmol      BE   78.66    NaN    10.0      BE  78.66   21.0\n",
            "11    11.0   surbhi      TE     NaN   23.0     NaN     NaN    NaN    NaN\n",
            "12    12.0    Sujay      TE   74.12   22.0     NaN     NaN    NaN    NaN\n",
            "13    13.0  subhash      be   88.45   21.0     NaN     NaN    NaN    NaN\n",
            "14    14.0   sachin     NaN   59.33   21.0     NaN     NaN    NaN    NaN\n",
            "15    15.0  shalini      TE   63.45   20.0     NaN     NaN    NaN    NaN\n",
            "16     NaN    amita     NaN     NaN    NaN     8.0      BE    NaN   23.0\n"
          ]
        }
      ]
    },
    {
      "cell_type": "code",
      "source": [
        "filtered_df1 = df1[df1['age'] < 30]\n",
        "print(filtered_df1)\n"
      ],
      "metadata": {
        "colab": {
          "base_uri": "https://localhost:8080/"
        },
        "id": "Fyqm_UORDvHG",
        "outputId": "41078d9d-6303-4fd9-e93a-ea9b62a93074"
      },
      "execution_count": 10,
      "outputs": [
        {
          "output_type": "stream",
          "name": "stdout",
          "text": [
            "    roll     name class  marks    age\n",
            "0      1     anil    TE   56.77  22.0\n",
            "1      2     amit    TE   59.77  21.0\n",
            "2      3   aniket    BE   76.88  19.0\n",
            "3      4  ajinkya    TE   69.66  20.0\n",
            "5      6   ayesha    BE     NaN  20.0\n",
            "6      7     amar    BE   65.34  19.0\n",
            "7      8    Amita    be   68.33  23.0\n",
            "8      9     amol    TE   56.75  20.0\n",
            "9      9     amol    TE   56.75  20.0\n",
            "11    11   surbhi    TE     NaN  23.0\n",
            "12    12    Sujay    TE   74.12  22.0\n",
            "13    13  subhash    be   88.45  21.0\n",
            "14    14   sachin   NaN   59.33  21.0\n",
            "15    15  shalini    TE   63.45  20.0\n"
          ]
        }
      ]
    },
    {
      "cell_type": "code",
      "source": [
        "import random\n",
        "sample_size = 5\n",
        "sampled_df = df1.sample(n=sample_size)\n",
        "rat_col=sampled_df['age']\n",
        "print(rat_col)\n"
      ],
      "metadata": {
        "colab": {
          "base_uri": "https://localhost:8080/"
        },
        "id": "LxB_6Kh_Gyep",
        "outputId": "c0721bc0-9e43-497d-cc58-2d8e3aa2feed"
      },
      "execution_count": 25,
      "outputs": [
        {
          "output_type": "stream",
          "name": "stdout",
          "text": [
            "6     19.0\n",
            "8     20.0\n",
            "1     21.0\n",
            "3     20.0\n",
            "11    23.0\n",
            "Name: age, dtype: float64\n"
          ]
        }
      ]
    },
    {
      "source": [
        "import random\n",
        "sample_size = 5\n",
        "sampled_df = df1.sample(n=sample_size)\n",
        "rat_col=sampled_df['age'] # Use the correct variable name 'sampled_df'\n",
        "print(rat_col)"
      ],
      "cell_type": "code",
      "metadata": {
        "colab": {
          "base_uri": "https://localhost:8080/"
        },
        "id": "6axNLO9VIfpI",
        "outputId": "35c9c8c2-dd02-4a03-aa5b-796e654ed5fe"
      },
      "execution_count": 24,
      "outputs": [
        {
          "output_type": "stream",
          "name": "stdout",
          "text": [
            "15    20.0\n",
            "7     23.0\n",
            "5     20.0\n",
            "1     21.0\n",
            "3     20.0\n",
            "Name: age, dtype: float64\n"
          ]
        }
      ]
    }
  ]
}