{
  "nbformat": 4,
  "nbformat_minor": 0,
  "metadata": {
    "colab": {
      "provenance": []
    },
    "kernelspec": {
      "name": "python3",
      "display_name": "Python 3"
    },
    "language_info": {
      "name": "python"
    }
  },
  "cells": [
    {
      "cell_type": "markdown",
      "source": [
        "Step Forward Selection (SFS), also called Forward Selection, is a wrapper method for\n",
        "feature selection in machine learning. Its goal is to select a subset of relevant features that\n",
        "improve model performance, reducing dimensionality and removing irrelevant or redundant\n",
        "features.\n",
        "How Step Forward Selection Works:\n",
        "1. Start with an empty set of features: Initially, no features are selected.\n",
        "2. Evaluate each feature individually: Add one feature at a time to the model and\n",
        "evaluate the model's performance (using metrics like accuracy, precision, etc.).\n",
        "3. Select the best feature: The feature that gives the best performance (e.g., highest\n",
        "accuracy) is selected and added to the feature set.\n",
        "4. Repeat the process: Add another feature from the remaining features to the already\n",
        "selected feature set. Evaluate the model with the new feature set.\n",
        "5. Stop when a criterion is met: Continue adding features until you meet a stopping\n",
        "condition, such as a specified number of features or no further improvement in\n",
        "performance."
      ],
      "metadata": {
        "id": "W8U2tcqevp3C"
      }
    },
    {
      "cell_type": "code",
      "source": [
        "import numpy as np\n",
        "import pandas as pd\n",
        "from sklearn.datasets import load_iris\n",
        "from sklearn.model_selection import train_test_split\n",
        "from sklearn.linear_model import LogisticRegression\n",
        "from mlxtend.feature_selection import SequentialFeatureSelector as SFS\n",
        "from sklearn.metrics import accuracy_score\n",
        "\n",
        "iris = load_iris()\n",
        "X = pd.DataFrame(iris.data, columns=iris.feature_names)\n",
        "y = iris.target\n",
        "\n",
        "X_train, X_test, y_train, y_test = train_test_split(X, y, test_size=0.2, random_state=42)\n",
        "\n",
        "clf = LogisticRegression(max_iter=200)\n",
        "\n",
        "sfs = SFS(clf,\n",
        "k_features=3,\n",
        "forward=True,\n",
        "floating=False,\n",
        "scoring='accuracy',\n",
        "cv=5)\n",
        "sfs = sfs.fit(X_train, y_train)\n",
        "\n",
        "selected_features = sfs.k_feature_idx_\n",
        "print(f\"Selected Features: {selected_features}\")\n",
        "\n",
        "X_train_sfs = sfs.transform(X_train)\n",
        "X_test_sfs = sfs.transform(X_test)\n",
        "\n",
        "clf.fit(X_train_sfs, y_train)\n",
        "\n",
        "y_pred = clf.predict(X_test_sfs)\n",
        "accuracy = accuracy_score(y_test, y_pred)\n",
        "print(f\"Model accuracy with selected features: {accuracy}\")"
      ],
      "metadata": {
        "colab": {
          "base_uri": "https://localhost:8080/"
        },
        "id": "-Nekh2PivuFO",
        "outputId": "6991cfbd-bdcd-43f4-9bdf-fc801de9d5c4"
      },
      "execution_count": 1,
      "outputs": [
        {
          "output_type": "stream",
          "name": "stdout",
          "text": [
            "Selected Features: (0, 2, 3)\n",
            "Model accuracy with selected features: 1.0\n"
          ]
        }
      ]
    },
    {
      "cell_type": "markdown",
      "source": [
        "How Step Backward Feature Selection Works:\n",
        "1. Start with all features: Begin with a model that includes all the features.\n",
        "2. Evaluate each feature: For each feature, calculate how much removing that feature\n",
        "affects the model's performance (using metrics like accuracy, precision, etc.).\n",
        "3. Remove the least important feature: Remove the feature that results in the smallest\n",
        "decrease (or the largest increase) in model performance.\n",
        "4. Repeat the process: Rebuild the model with the remaining features, and again remove\n",
        "the feature whose absence impacts performance the least.\n",
        "5. Stop when a criterion is met: Continue the process until a stopping condition is met,\n",
        "such as when a predefined number of features are left or no further improvement is\n",
        "observed.\n"
      ],
      "metadata": {
        "id": "6PrRPldEwTrK"
      }
    },
    {
      "cell_type": "code",
      "source": [
        "import numpy as np\n",
        "import pandas as pd\n",
        "from sklearn.datasets import load_iris\n",
        "from sklearn.model_selection import train_test_split\n",
        "from sklearn.linear_model import LogisticRegression\n",
        "from mlxtend.feature_selection import SequentialFeatureSelector as SFS\n",
        "from sklearn.metrics import accuracy_score\n",
        "# Load dataset\n",
        "iris = load_iris()\n",
        "X = pd.DataFrame(iris.data, columns=iris.feature_names)\n",
        "y = iris.target\n",
        "# Splitting dataset into training and testing sets\n",
        "X_train, X_test, y_train, y_test = train_test_split(X, y, test_size=0.2, random_state=42)\n",
        "# Initializing the classifier (Logistic Regression in this case)\n",
        "clf = LogisticRegression(max_iter=200)\n",
        "# Initializing the Sequential Backward Selection (SBS)\n",
        "sbs = SFS(clf,\n",
        "k_features=3, # Select top 3 features\n",
        "forward=False, # Backward selection\n",
        "floating=False, # Set to False for simple step backward\n",
        "scoring='accuracy',\n",
        "cv=5) # 5-fold cross-validation\n",
        "# Perform SBS\n",
        "sbs = sbs.fit(X_train, y_train)\n",
        "# Get selected feature indices\n",
        "selected_features = sbs.k_feature_idx_\n",
        "print(f\"Selected Features: {selected_features}\")\n",
        "# Subset the dataset with selected features\n",
        "X_train_sbs = sbs.transform(X_train)\n",
        "X_test_sbs = sbs.transform(X_test)\n",
        "# Train classifier with selected features\n",
        "clf.fit(X_train_sbs, y_train)\n",
        "# Predict and evaluate model performance\n",
        "y_pred = clf.predict(X_test_sbs)\n",
        "accuracy = accuracy_score(y_test, y_pred)\n",
        "print(f\"Model accuracy with selected features: {accuracy}\")"
      ],
      "metadata": {
        "colab": {
          "base_uri": "https://localhost:8080/"
        },
        "id": "fGqLuKSbwaQp",
        "outputId": "becff383-9539-4eb8-ac81-47dfc9b58905"
      },
      "execution_count": 2,
      "outputs": [
        {
          "output_type": "stream",
          "name": "stdout",
          "text": [
            "Selected Features: (0, 2, 3)\n",
            "Model accuracy with selected features: 1.0\n"
          ]
        }
      ]
    }
  ]
}